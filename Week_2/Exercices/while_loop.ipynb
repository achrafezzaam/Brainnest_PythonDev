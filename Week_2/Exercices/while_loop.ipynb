{
 "cells": [
  {
   "attachments": {},
   "cell_type": "markdown",
   "metadata": {},
   "source": [
    "1. Create a while loop that repeatedly takes user input and adds the input to a list until the user enters \"done\"."
   ]
  },
  {
   "cell_type": "code",
   "execution_count": null,
   "metadata": {},
   "outputs": [],
   "source": [
    "output_list =[]\n",
    "\n",
    "while True:\n",
    "    entry = input(\"Enter a number: \")\n",
    "    if entry.lower() == \"done\":\n",
    "        print(str(output_list))\n",
    "        break\n",
    "    else:\n",
    "        output_list.append(entry)\n"
   ]
  },
  {
   "attachments": {},
   "cell_type": "markdown",
   "metadata": {},
   "source": [
    "2. Create a while loop that generates random numbers and adds them to a list until the sum of all numbers in the list is greater than 100."
   ]
  },
  {
   "cell_type": "code",
   "execution_count": null,
   "metadata": {},
   "outputs": [],
   "source": [
    "import random\n",
    "output_list = []\n",
    "sum = 0\n",
    "\n",
    "while sum <= 100:\n",
    "    num = random.randint(1,20)\n",
    "    sum += num\n",
    "    output_list.append(num)\n",
    "\n",
    "print(str(output_list))"
   ]
  },
  {
   "attachments": {},
   "cell_type": "markdown",
   "metadata": {},
   "source": [
    "3. Create a while loop that repeatedly takes user input and appends it to a list, but only if the input is a unique string."
   ]
  },
  {
   "cell_type": "code",
   "execution_count": null,
   "metadata": {},
   "outputs": [],
   "source": [
    "output_list = []\n",
    "entry = \"\"\n",
    "while entry not in output_list:\n",
    "    if entry:\n",
    "        output_list.append(entry)\n",
    "    entry = input(\"Enter a string: \")\n",
    "\n",
    "print(str(output_list))"
   ]
  },
  {
   "attachments": {},
   "cell_type": "markdown",
   "metadata": {},
   "source": [
    "4. Create a while loop that repeatedly takes user input and appends it to a list, but only if the input is a number greater than 10."
   ]
  },
  {
   "cell_type": "code",
   "execution_count": null,
   "metadata": {},
   "outputs": [],
   "source": [
    "output_list = []\n",
    "entry = 100\n",
    "while entry > 10:\n",
    "    entry = input(\"Enter a number: \")\n",
    "    try:\n",
    "        entry = float(entry)\n",
    "        if entry > 10:\n",
    "            output_list.append(entry)\n",
    "        else:\n",
    "            break\n",
    "    except:\n",
    "        print(\"Only numbers are accepted as an entry!\")\n",
    "        \n",
    "\n",
    "print(str(output_list))"
   ]
  },
  {
   "attachments": {},
   "cell_type": "markdown",
   "metadata": {},
   "source": [
    "5. Create a while loop that repeatedly takes user input and keeps track of the highest number entered until the user enters \"done\"."
   ]
  },
  {
   "cell_type": "code",
   "execution_count": null,
   "metadata": {},
   "outputs": [],
   "source": [
    "greater = float('-inf')\n",
    "\n",
    "while True:\n",
    "    entry = input(\"Enter a number: \")\n",
    "    if entry.lower() == \"done\":\n",
    "        print(str(output_list))\n",
    "        break\n",
    "    else:\n",
    "        try:\n",
    "            entry = float(entry)\n",
    "            if entry > greater:\n",
    "                greater = entry\n",
    "        except:\n",
    "            print(\"Only Numbers are accepted as an entry\")"
   ]
  }
 ],
 "metadata": {
  "kernelspec": {
   "display_name": "Python 3",
   "language": "python",
   "name": "python3"
  },
  "language_info": {
   "name": "python",
   "version": "3.10.6 (main, Nov 14 2022, 16:10:14) [GCC 11.3.0]"
  },
  "orig_nbformat": 4,
  "vscode": {
   "interpreter": {
    "hash": "916dbcbb3f70747c44a77c7bcd40155683ae19c65e1c03b4aa3499c5328201f1"
   }
  }
 },
 "nbformat": 4,
 "nbformat_minor": 2
}

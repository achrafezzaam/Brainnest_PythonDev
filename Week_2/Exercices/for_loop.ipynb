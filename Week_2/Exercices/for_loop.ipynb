{
 "cells": [
  {
   "attachments": {},
   "cell_type": "markdown",
   "metadata": {},
   "source": [
    "1. Create a for loop that iterates through a list of strings and prints each string in uppercase."
   ]
  },
  {
   "cell_type": "code",
   "execution_count": null,
   "metadata": {},
   "outputs": [],
   "source": [
    "words_list = [\"word1\",\"word2\",\"word3\",\"word4\"]\n",
    "for elem in words_list:\n",
    "    print(elem.upper())"
   ]
  },
  {
   "attachments": {},
   "cell_type": "markdown",
   "metadata": {},
   "source": [
    "2. Create a for loop that iterates through a list of numbers and prints the square of each number."
   ]
  },
  {
   "cell_type": "code",
   "execution_count": null,
   "metadata": {},
   "outputs": [],
   "source": [
    "numbers = [1,2,3,4,5,6,7,8,9]\n",
    "for elem in numbers:\n",
    "    print(elem**2)"
   ]
  },
  {
   "attachments": {},
   "cell_type": "markdown",
   "metadata": {},
   "source": [
    "3. Create a for loop that iterates through a list of dictionaries and prints the value of a specified key for each dictionary."
   ]
  },
  {
   "cell_type": "code",
   "execution_count": null,
   "metadata": {},
   "outputs": [],
   "source": [
    "dicts = [{\"key1\":\"value1\",\"key2\":\"value2\",\"key3\":\"value3\"},{\"key2\":\"value2\"},{\"key1\":\"value1\",\"key3\":\"value3\",\"key4\":\"value4\"}]\n",
    "\n",
    "def getKeyValues(key):\n",
    "    count = 1\n",
    "    for elem in dicts:\n",
    "        try:\n",
    "            print(\"Dictionary n°\"+str(count)+\": \"+str(elem[key]))\n",
    "        except:\n",
    "            print(\"Dictionary n°\"+str(count)+\": Key not found\")\n",
    "        count+=1\n",
    "\n",
    "getKeyValues(\"key2\")"
   ]
  },
  {
   "attachments": {},
   "cell_type": "markdown",
   "metadata": {},
   "source": [
    "4. Create a for loop that iterates through a list of numbers and prints the largest number in the list."
   ]
  },
  {
   "cell_type": "code",
   "execution_count": null,
   "metadata": {},
   "outputs": [],
   "source": [
    "numbers = [1,2,3,4,5,6,7,8,9]\n",
    "largest = float('-inf')\n",
    "for elem in numbers:\n",
    "    if elem > largest:\n",
    "        largest = elem\n",
    "\n",
    "print(str(largest))"
   ]
  },
  {
   "attachments": {},
   "cell_type": "markdown",
   "metadata": {},
   "source": [
    "5. Create a for loop that iterates through a list of lists and prints the sum of the elements in each sub-list."
   ]
  },
  {
   "cell_type": "code",
   "execution_count": null,
   "metadata": {},
   "outputs": [],
   "source": [
    "var_list =[[2,46,7,13,74],[89,4,7,13,74],[100,46,7,16,84]]\n",
    "\n",
    "for elem in var_list:\n",
    "    print(sum(elem))"
   ]
  }
 ],
 "metadata": {
  "kernelspec": {
   "display_name": "Python 3",
   "language": "python",
   "name": "python3"
  },
  "language_info": {
   "name": "python",
   "version": "3.10.6 (main, Nov 14 2022, 16:10:14) [GCC 11.3.0]"
  },
  "orig_nbformat": 4,
  "vscode": {
   "interpreter": {
    "hash": "916dbcbb3f70747c44a77c7bcd40155683ae19c65e1c03b4aa3499c5328201f1"
   }
  }
 },
 "nbformat": 4,
 "nbformat_minor": 2
}

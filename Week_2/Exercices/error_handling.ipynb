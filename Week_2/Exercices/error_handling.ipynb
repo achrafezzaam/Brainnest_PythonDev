{
 "cells": [
  {
   "attachments": {},
   "cell_type": "markdown",
   "metadata": {},
   "source": [
    "1. Write a function that takes a list of integers as an argument, and returns the sum of the integers. Use a try-except block to catch any ValueError exceptions that may be raised when attempting to convert a string to an integer."
   ]
  },
  {
   "cell_type": "code",
   "execution_count": null,
   "metadata": {},
   "outputs": [],
   "source": [
    "list = [1,2,'3',4,'fd',6,7,'8',9]\n",
    "\n",
    "def list_sum(entry_lsit):\n",
    "    summ = 0\n",
    "    for elem in entry_lsit:\n",
    "        try:\n",
    "            elem = int(elem)\n",
    "            summ+=elem\n",
    "        except Exception as e:\n",
    "            print(e)\n",
    "    return summ\n",
    "\n",
    "out_put = list_sum(list)\n",
    "\n",
    "print(out_put)"
   ]
  },
  {
   "attachments": {},
   "cell_type": "markdown",
   "metadata": {},
   "source": [
    "2. Write a function that takes a filename as an argument, and attempts to open the file. Use a try-except block to catch any FileNotFoundError exceptions that may be raised when attempting to open the file. If the file is successfully opened, the function should return the contents of the file."
   ]
  },
  {
   "cell_type": "code",
   "execution_count": null,
   "metadata": {},
   "outputs": [],
   "source": [
    "test_file = \"\"\n",
    "\n",
    "def file_reader(filename):\n",
    "    try:\n",
    "        file = open(filename,'r')\n",
    "        print(file.read())\n",
    "        file.close()\n",
    "    except FileNotFoundError as e:\n",
    "        print(e)"
   ]
  },
  {
   "attachments": {},
   "cell_type": "markdown",
   "metadata": {},
   "source": [
    "3. Write a function that takes a list of strings as an argument, and returns a new list containing only the strings that can be successfully converted to a float. Use a try-except block to catch any ValueError exceptions that may be raised when attempting to convert a string to a float."
   ]
  },
  {
   "cell_type": "code",
   "execution_count": null,
   "metadata": {},
   "outputs": [],
   "source": [
    "test = [\"1.23\",\"jb\",\"20\",\"45.2\",\"1.3\",\"6.45\"]\n",
    "\n",
    "def convert_float(list):\n",
    "    output_list = []\n",
    "    for elem in list:\n",
    "        try:\n",
    "            elem = float(elem)\n",
    "            output_list.append(elem)\n",
    "        except ValueError as e:\n",
    "            print(e)\n",
    "\n",
    "    print(\"The converted list is: \"+str(output_list))\n",
    "\n",
    "convert_float(test)"
   ]
  },
  {
   "attachments": {},
   "cell_type": "markdown",
   "metadata": {},
   "source": [
    "4. Write a function that takes a list of dictionaries as an argument, and returns the value of a specified key from each dictionary. Use a try-except block to catch any KeyError exceptions that may be raised when attempting to access a key that does not exist in a dictionary."
   ]
  },
  {
   "cell_type": "code",
   "execution_count": null,
   "metadata": {},
   "outputs": [],
   "source": [
    "test = [{\"key1\":\"value1\",\"key2\":\"value2\",\"key3\":\"value3\"},\n",
    "        {\"key1\":\"value1\",\"key3\":\"value3\"},\n",
    "        {\"key1\":\"value1\",\"key2\":\"value2\"},\n",
    "        {\"key1\":\"value1\",\"key3\":\"value3\",\"key4\":\"value4\",\"key8\":\"value8\"}]\n",
    "\n",
    "def get_dict_val(dictList,key):\n",
    "    values_list = []\n",
    "    for elem in dictList:\n",
    "        try:\n",
    "            value = elem[key]\n",
    "            values_list.append(value)\n",
    "        except KeyError as e:\n",
    "            print(\"This key doesn't exist\")\n",
    "    print(str(values_list))\n",
    "\n",
    "get_dict_val(test,\"key2\")"
   ]
  },
  {
   "attachments": {},
   "cell_type": "markdown",
   "metadata": {},
   "source": [
    "5. Write a function that takes a list of integers as an argument, and returns the largest integer in the list. Use a try-except block to catch any ValueError exceptions that may be raised when attempting to compare elements that are not integers."
   ]
  },
  {
   "cell_type": "code",
   "execution_count": null,
   "metadata": {},
   "outputs": [],
   "source": [
    "def find_largest(numbers):\n",
    "    largest = float('-inf')\n",
    "    for number in numbers:\n",
    "        try:\n",
    "            number = int(number)\n",
    "            if number > largest:\n",
    "                largest = number\n",
    "        except ValueError as e:\n",
    "            print(e)\n",
    "    return largest\n",
    "\n",
    "numbers = [-1,-2,\"jf\",-4]\n",
    "result = find_largest(numbers)\n",
    "print(result)"
   ]
  }
 ],
 "metadata": {
  "kernelspec": {
   "display_name": "Python 3",
   "language": "python",
   "name": "python3"
  },
  "language_info": {
   "name": "python",
   "version": "3.10.6 (main, Nov 14 2022, 16:10:14) [GCC 11.3.0]"
  },
  "orig_nbformat": 4,
  "vscode": {
   "interpreter": {
    "hash": "916dbcbb3f70747c44a77c7bcd40155683ae19c65e1c03b4aa3499c5328201f1"
   }
  }
 },
 "nbformat": 4,
 "nbformat_minor": 2
}

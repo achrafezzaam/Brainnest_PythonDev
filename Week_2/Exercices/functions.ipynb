{
 "cells": [
  {
   "attachments": {},
   "cell_type": "markdown",
   "metadata": {},
   "source": [
    "1. Write a program that takes a list of numbers and returns the largest number in the list."
   ]
  },
  {
   "cell_type": "code",
   "execution_count": null,
   "metadata": {},
   "outputs": [],
   "source": [
    "numbers = [1, 2, 3, 4, 5, 6, 7, 8, 9]\n",
    "# your code here\n",
    "def get_max(entry_list):\n",
    "    maximum = 0\n",
    "\n",
    "    for elem in entry_list:\n",
    "        if elem > maximum:\n",
    "            maximum = elem\n",
    "\n",
    "    return str(maximum)\n",
    "\n",
    "print(get_max(numbers))"
   ]
  },
  {
   "attachments": {},
   "cell_type": "markdown",
   "metadata": {},
   "source": [
    "2. Write a program that takes a string and returns the number of vowels in the string."
   ]
  },
  {
   "cell_type": "code",
   "execution_count": null,
   "metadata": {},
   "outputs": [],
   "source": [
    "string = \"Hello, world!\"\n",
    "# your code here\n",
    "\n",
    "def check_for_vowels(entry_string):\n",
    "    vowels = ['a','e','i','o','u']\n",
    "    count = 0\n",
    "    for elem in entry_string:\n",
    "        if elem in vowels:\n",
    "            count+=1\n",
    "    print(\"The number of vowels in your string is: \"+str(count))\n",
    "\n",
    "check_for_vowels(string)"
   ]
  },
  {
   "attachments": {},
   "cell_type": "markdown",
   "metadata": {},
   "source": [
    "3. Write a program that takes a list of strings and returns a new list that contains only the strings that start with the letter 'a'."
   ]
  },
  {
   "cell_type": "code",
   "execution_count": 3,
   "metadata": {},
   "outputs": [],
   "source": [
    "strings = [\"apple\", \"banana\", \"cherry\", \"date\"]\n",
    "# your code here\n",
    "\n",
    "def a_list(entry_list):\n",
    "    new_list= []\n",
    "    for elem in entry_list:\n",
    "        if elem[0].lower() == 'a':\n",
    "            new_list.append(elem)\n",
    "    print('The new list is: '+str(new_list))\n",
    "\n",
    "a_list(strings)"
   ]
  },
  {
   "attachments": {},
   "cell_type": "markdown",
   "metadata": {},
   "source": [
    "4. Write a program that takes a sentence (string) and returns a dictionary with the count of each word in the sentence."
   ]
  },
  {
   "cell_type": "code",
   "execution_count": null,
   "metadata": {},
   "outputs": [],
   "source": [
    "sentence = \"this is a test sentence\"\n",
    "# your code here\n",
    "\n",
    "def letter_count(entry_sentence):\n",
    "    words_dict = {}\n",
    "    words_list = entry_sentence.split()\n",
    "    for word in words_list:\n",
    "        words_dict[word] = len(word)\n",
    "\n",
    "    print(\"The output dictionary is: \"+str(words_dict))\n",
    "\n",
    "letter_count(sentence)"
   ]
  },
  {
   "attachments": {},
   "cell_type": "markdown",
   "metadata": {},
   "source": [
    "5. Write a program that takes two lists of numbers and returns a new list that contains only the numbers that are common to both lists."
   ]
  },
  {
   "cell_type": "code",
   "execution_count": null,
   "metadata": {},
   "outputs": [],
   "source": [
    "list1 = [1, 2, 3, 4, 5, 6, 7, 8, 9]\n",
    "list2 = [2, 4, 6, 8, 10, 12, 14, 16, 18]\n",
    "# your code here\n",
    "\n",
    "def compose_list(listOne,listTwo):\n",
    "    new_list=[]\n",
    "    for elemOne in listOne:\n",
    "        for elemTwo in listTwo:\n",
    "            if elemOne == elemTwo:\n",
    "                new_list.append(elemOne)\n",
    "    print(\"The new list is: \"+str(new_list))\n",
    "\n",
    "compose_list(list1,list2)"
   ]
  },
  {
   "attachments": {},
   "cell_type": "markdown",
   "metadata": {},
   "source": [
    "6. Write a program that takes a list of integers and returns a new list that contains only the prime numbers from the original list."
   ]
  },
  {
   "cell_type": "code",
   "execution_count": null,
   "metadata": {},
   "outputs": [],
   "source": [
    "numbers = [1, 2, 3, 4, 5, 6, 7, 8, 9, 10, 11, 12, 13, 14, 15]\n",
    "# your code here\n",
    "\n",
    "def prime_list(numbers):\n",
    "    primes_list = []\n",
    "    for number in numbers:\n",
    "        prime = False\n",
    "        if number == 1:\n",
    "            prime = True\n",
    "        else:\n",
    "            for x in range(2,number):\n",
    "                if (number % x) == 0:\n",
    "                    prime = True\n",
    "                    break\n",
    "            if not prime:\n",
    "                primes_list.append(number)\n",
    "    print(primes_list)\n",
    "            \n",
    "prime_list(numbers)"
   ]
  },
  {
   "attachments": {},
   "cell_type": "markdown",
   "metadata": {},
   "source": [
    "7. Write a program that takes a string and returns the number of words in the string."
   ]
  },
  {
   "cell_type": "code",
   "execution_count": null,
   "metadata": {},
   "outputs": [],
   "source": [
    "string = \"Write a program that takes a string\"\n",
    "# your code here\n",
    "\n",
    "def words_count(entry_string):\n",
    "    words_list = entry_string.split()\n",
    "    return len(words_list)\n",
    "\n",
    "count = words_count(string)\n",
    "print(count)"
   ]
  },
  {
   "attachments": {},
   "cell_type": "markdown",
   "metadata": {},
   "source": [
    "8. Write a program that takes a list of strings and returns a new list that contains only the strings that are palindrome."
   ]
  },
  {
   "cell_type": "code",
   "execution_count": null,
   "metadata": {},
   "outputs": [],
   "source": [
    "strings = [\"madam\", \"level\", \"civic\"]\n",
    "# your code here\n",
    "\n",
    "def palyndrom(entry_list):\n",
    "    output_list = []\n",
    "    for elem in entry_list:\n",
    "        palynd = True\n",
    "        for x in range(len(elem)//2):\n",
    "            if elem[x] != elem[-x-1]:\n",
    "                palynd = False\n",
    "                break\n",
    "        if palynd:\n",
    "            output_list.append(elem)\n",
    "    print(str(output_list))            \n",
    "\n",
    "palyndrom(strings)"
   ]
  },
  {
   "attachments": {},
   "cell_type": "markdown",
   "metadata": {},
   "source": [
    "9. Write a program that takes a sentence (string) and returns a tuple of the most frequent word and its frequency."
   ]
  },
  {
   "cell_type": "code",
   "execution_count": null,
   "metadata": {},
   "outputs": [],
   "source": [
    "sentence = \"this is a test sentence to test the test\"\n",
    "# your code here\n",
    "\n",
    "def wordCounter(sent):\n",
    "    words_list = sent.split()\n",
    "    counter = 0\n",
    "    visited = []\n",
    "    word = \"\"\n",
    "    for elem in words_list:\n",
    "        if elem not in visited:\n",
    "            if words_list.count(elem) > counter:\n",
    "                word = elem\n",
    "                visited.append(elem)\n",
    "                counter = words_list.count(elem)\n",
    "    return (word,counter)\n",
    "\n",
    "tuple = wordCounter(sentence)\n",
    "print(\"The word '{word}' has occured {times} times in the sentence.\".format(word=tuple[0],times=tuple[1]))"
   ]
  }
 ],
 "metadata": {
  "kernelspec": {
   "display_name": "Python 3",
   "language": "python",
   "name": "python3"
  },
  "language_info": {
   "codemirror_mode": {
    "name": "ipython",
    "version": 3
   },
   "file_extension": ".py",
   "mimetype": "text/x-python",
   "name": "python",
   "nbconvert_exporter": "python",
   "pygments_lexer": "ipython3",
   "version": "3.10.6 (main, Nov 14 2022, 16:10:14) [GCC 11.3.0]"
  },
  "orig_nbformat": 4,
  "vscode": {
   "interpreter": {
    "hash": "916dbcbb3f70747c44a77c7bcd40155683ae19c65e1c03b4aa3499c5328201f1"
   }
  }
 },
 "nbformat": 4,
 "nbformat_minor": 2
}
